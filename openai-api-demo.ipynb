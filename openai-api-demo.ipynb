{
 "cells": [
  {
   "cell_type": "markdown",
   "id": "6e095274",
   "metadata": {},
   "source": [
    "# 🤖 Ollama & OpenAI Chat API Demo\n",
    "\n",
    "Explore chat completions using OpenAI's API and Ollama, including prompt engineering, temperature, and completion parameters. Includes a lyric completion assistant example.\n"
   ]
  },
  {
   "cell_type": "code",
   "execution_count": null,
   "id": "12872e29",
   "metadata": {},
   "outputs": [],
   "source": [
    "from openai import OpenAI\n",
    "\n",
    "client = OpenAI(\n",
    "    base_url=\"http://localhost:11434/v1\",\n",
    "    api_key=\"ollama\",  # required, but unused\n",
    ")"
   ]
  },
  {
   "cell_type": "code",
   "execution_count": null,
   "id": "eb7a1c4f-b4dc-453f-8e63-bc016f2de35e",
   "metadata": {},
   "outputs": [],
   "source": [
    "from openai import ChatCompletion\n",
    "\n",
    "chat_completion: ChatCompletion = client.chat.completions.create(\n",
    "    model=\"gemma3:1b\",\n",
    "    messages=[{\"role\": \"user\", \"content\": \"Listen to your\"}],\n",
    ")\n",
    "\n",
    "chat_completion.to_dict()"
   ]
  },
  {
   "cell_type": "code",
   "execution_count": null,
   "id": "340f7ccf-c599-443c-89d8-e509039d673b",
   "metadata": {},
   "outputs": [],
   "source": [
    "chat_completion.choices[0].message.content"
   ]
  },
  {
   "cell_type": "markdown",
   "id": "9b0e3b38-0bb2-48de-9d3f-ee5013f4a689",
   "metadata": {
    "tags": []
   },
   "source": [
    "##### Setting the max. limit of output tokens\n"
   ]
  },
  {
   "cell_type": "code",
   "execution_count": null,
   "id": "cf02f54e-004e-409b-942d-74a4d855c2d5",
   "metadata": {},
   "outputs": [],
   "source": [
    "chat_completion = client.chat.completions.create(\n",
    "    model=\"gemma3:1b\",\n",
    "    messages=[{\"role\": \"user\", \"content\": \"Listen to your\"}],\n",
    "    max_tokens=5,\n",
    ")\n",
    "\n",
    "chat_completion.to_dict()"
   ]
  },
  {
   "cell_type": "markdown",
   "id": "183ffa97-eb11-4ca9-a8d4-29502ee0cdc6",
   "metadata": {},
   "source": [
    "#### Cranking the temperature\n"
   ]
  },
  {
   "cell_type": "code",
   "execution_count": null,
   "id": "638b828b-b323-4cd8-90ea-5106146635a0",
   "metadata": {},
   "outputs": [],
   "source": [
    "chat_completion = client.chat.completions.create(\n",
    "    model=\"gemma3:1b\",\n",
    "    messages=[{\"role\": \"user\", \"content\": \"Listen to your\"}],\n",
    "    temperature=0,\n",
    ")\n",
    "\n",
    "chat_completion.choices[0].message.content"
   ]
  },
  {
   "cell_type": "code",
   "execution_count": null,
   "id": "b78dd7ad-5790-441f-981d-60de6c61104d",
   "metadata": {},
   "outputs": [],
   "source": [
    "chat_completion = client.chat.completions.create(\n",
    "    model=\"gemma3:1b\",\n",
    "    messages=[{\"role\": \"user\", \"content\": \"Listen to your\"}],\n",
    "    temperature=2,\n",
    ")\n",
    "\n",
    "chat_completion.choices[0].message.content"
   ]
  },
  {
   "cell_type": "markdown",
   "id": "cc228536-a0b6-4a7f-81f7-382c3205ee8a",
   "metadata": {
    "tags": []
   },
   "source": [
    "### Demo: Lyric Completion Assistant\n"
   ]
  },
  {
   "cell_type": "code",
   "execution_count": null,
   "id": "ece8e6a6-ebe0-4ff1-b132-e8bc8759e1e6",
   "metadata": {},
   "outputs": [],
   "source": [
    "messages_list = [\n",
    "    {\n",
    "        \"role\": \"system\",\n",
    "        \"content\": \"I am Roxette lyric completion assistant. When given a line from a song, I will provide the next line in the song.\",\n",
    "    },\n",
    "    {\"role\": \"user\", \"content\": \"I know there's something in the wake of your smile\"},\n",
    "    {\"role\": \"assistant\", \"content\": \"I get a notion from the look in your eyes, yeah\"},\n",
    "    {\"role\": \"user\", \"content\": \"You've built a love but that love falls apart\"},\n",
    "    {\"role\": \"assistant\", \"content\": \"Your little piece of Heaven turns too dark\"},\n",
    "    {\"role\": \"user\", \"content\": \"Listen to your\"},\n",
    "]"
   ]
  },
  {
   "cell_type": "code",
   "execution_count": null,
   "id": "3b51fdc0-7f91-4524-a27e-739a9fb3f795",
   "metadata": {},
   "outputs": [],
   "source": [
    "import time\n",
    "\n",
    "for i in range(4):\n",
    "    chat_completion = client.chat.completions.create(\n",
    "        model=\"gemma3:1b\",\n",
    "        messages=messages_list,\n",
    "        temperature=0\n",
    "    )\n",
    "\n",
    "    print(chat_completion.choices[0].message.content)\n",
    "\n",
    "    new_message = {\n",
    "        \"role\": \"assistant\",\n",
    "        \"content\": chat_completion.choices[0].message.content,\n",
    "    }\n",
    "    messages_list.append(new_message)\n",
    "    time.sleep(0.1)"
   ]
  },
  {
   "cell_type": "code",
   "execution_count": null,
   "id": "4c2168d7-8842-47d0-a7cc-02c5ea505a41",
   "metadata": {},
   "outputs": [],
   "source": [
    "# Actual lyrics:\n",
    "\n",
    "# Listen to your heart when he's calling for you\n",
    "# Listen to your heart, there's nothing else you can do\n",
    "# I don't know where you're going and I don't know why\n",
    "# But listen to your heart before you tell him goodbye"
   ]
  }
 ],
 "metadata": {
  "kernelspec": {
   "display_name": ".venv",
   "language": "python",
   "name": "python3"
  },
  "language_info": {
   "codemirror_mode": {
    "name": "ipython",
    "version": 3
   },
   "file_extension": ".py",
   "mimetype": "text/x-python",
   "name": "python",
   "nbconvert_exporter": "python",
   "pygments_lexer": "ipython3",
   "version": "3.12.3"
  }
 },
 "nbformat": 4,
 "nbformat_minor": 5
}
